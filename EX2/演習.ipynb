{
 "cells": [
  {
   "cell_type": "markdown",
   "metadata": {},
   "source": [
    "演習１<br>\n",
    "4都市の折れ線グラフ(気温)を表示<br>\n",
    "1つのグラフ，横軸は「Month」を指定，タイトルは「Temperature」<br>\n",
    "できればpd.to_datetime(ヘッダ名)を使って日付データに変換"
   ]
  },
  {
   "cell_type": "markdown",
   "metadata": {},
   "source": [
    "演習2<br>\n",
    "4都市の折れ線グラフ(気温)を表示<br>\n",
    "縦2横2の4グラフ，横軸は「Month」を指定<br>\n",
    "画像サイズは12, 12"
   ]
  },
  {
   "cell_type": "markdown",
   "metadata": {},
   "source": [
    "演習3<br>\n",
    "演習2で作成したグラフのy軸を揃える"
   ]
  },
  {
   "cell_type": "markdown",
   "metadata": {},
   "source": [
    "演習4<br>\n",
    "演習3と同じグラフのy軸のラベルを「temperature」にする<br>\n",
    "各グラフのタイトルを都市名にする"
   ]
  },
  {
   "cell_type": "markdown",
   "metadata": {},
   "source": [
    "演習5<br>\n",
    "線の種類や形，マーカーなど色々なオプションを試してみる"
   ]
  }
 ],
 "metadata": {
  "kernelspec": {
   "display_name": "Python 3",
   "language": "python",
   "name": "python3"
  },
  "language_info": {
   "codemirror_mode": {
    "name": "ipython",
    "version": 3
   },
   "file_extension": ".py",
   "mimetype": "text/x-python",
   "name": "python",
   "nbconvert_exporter": "python",
   "pygments_lexer": "ipython3",
   "version": "3.7.3"
  }
 },
 "nbformat": 4,
 "nbformat_minor": 2
}

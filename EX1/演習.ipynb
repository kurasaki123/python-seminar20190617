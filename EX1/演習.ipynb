{
 "cells": [
  {
   "cell_type": "markdown",
   "metadata": {},
   "source": [
    "設定 <br/>\n",
    "クラスAとクラスBの生徒ごとのテストの点数のデータ（CSV）がある。"
   ]
  },
  {
   "cell_type": "markdown",
   "metadata": {},
   "source": [
    "演習1<br/>\n",
    "2つのクラスのデータを読み込んでそれぞを読み込んで2つのDataFrameをつくる。"
   ]
  },
  {
   "cell_type": "markdown",
   "metadata": {},
   "source": [
    "演習2 <br/>\n",
    "`class`列を追加する。<br/>\n",
    "classAファイルから作成したDataFrameのclass列には`A`を挿入。<br/>\n",
    "classBファイルから作成したDataFrameのclass列には`B`を挿入。"
   ]
  },
  {
   "cell_type": "markdown",
   "metadata": {},
   "source": [
    "演習3 <br/>\n",
    "2つのDataFrameを合成して1つのDataFrameする。<br>\n",
    "連番が乱れたら振り直す。"
   ]
  },
  {
   "cell_type": "markdown",
   "metadata": {},
   "source": [
    "演習4 <br/>\n",
    "scoreの高い順にソートする。<br/>"
   ]
  },
  {
   "cell_type": "markdown",
   "metadata": {},
   "source": [
    "演習5 <br/>\n",
    "`pass/fail`列を追加する。\n",
    "scoreが７０点以上の生徒の`pass/fail`列には`pass`、７０点より低いの場合は`faill`を挿入。"
   ]
  },
  {
   "cell_type": "markdown",
   "metadata": {},
   "source": [
    "演習6 <br/>\n",
    "クラスごとの平均、標準偏差、合格者数を求める。<br/>\n",
    "その際、欠損値があるデータは削除する。"
   ]
  }
 ],
 "metadata": {
  "kernelspec": {
   "display_name": "Python 3",
   "language": "python",
   "name": "python3"
  },
  "language_info": {
   "codemirror_mode": {
    "name": "ipython",
    "version": 3
   },
   "file_extension": ".py",
   "mimetype": "text/x-python",
   "name": "python",
   "nbconvert_exporter": "python",
   "pygments_lexer": "ipython3",
   "version": "3.6.6"
  }
 },
 "nbformat": 4,
 "nbformat_minor": 2
}

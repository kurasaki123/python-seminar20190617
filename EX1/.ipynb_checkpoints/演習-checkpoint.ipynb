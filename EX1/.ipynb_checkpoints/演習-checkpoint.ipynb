{
 "cells": [
  {
   "cell_type": "markdown",
   "metadata": {},
   "source": [
    "# 演習\n",
    "\n",
    "#### 状況\n",
    "クラスAとクラスBの生徒ごとのテストの点数のデータ（CSV）がある。\n",
    "\n",
    "\n",
    "\n",
    "\n",
    "\n",
    "\n"
   ]
  },
  {
   "cell_type": "markdown",
   "metadata": {},
   "source": [
    "### 演習1\n",
    "2つのクラスのデータを読み込んでそれぞを読み込んで2つのDataFrameをつくる"
   ]
  },
  {
   "cell_type": "markdown",
   "metadata": {},
   "source": [
    "### 演習2\n",
    "`class`列を追加する。<br/>\n",
    "classAファイルから作成したDataFrameのclass列には`A`を入れる。<br/>\n",
    "classBファイルから作成したDataFrameのclass列には`B`を入れる。"
   ]
  },
  {
   "cell_type": "markdown",
   "metadata": {},
   "source": [
    "### 演習3\n",
    "2つのDataFrameを合成して1つのDataFrameしてscore順にソートする。\n",
    "連番が乱れたら振り直す。"
   ]
  },
  {
   "cell_type": "markdown",
   "metadata": {},
   "source": [
    "### 演習4\n",
    "`pass/fail`列を追加する。\n",
    "scoreが７０点以上の生徒の`pass/fail`列には`pass`、７０点以下の場合は`faill`を"
   ]
  },
  {
   "cell_type": "code",
   "execution_count": null,
   "metadata": {},
   "outputs": [],
   "source": []
  }
 ],
 "metadata": {
  "kernelspec": {
   "display_name": "Python 3",
   "language": "python",
   "name": "python3"
  },
  "language_info": {
   "codemirror_mode": {
    "name": "ipython",
    "version": 3
   },
   "file_extension": ".py",
   "mimetype": "text/x-python",
   "name": "python",
   "nbconvert_exporter": "python",
   "pygments_lexer": "ipython3",
   "version": "3.6.6"
  }
 },
 "nbformat": 4,
 "nbformat_minor": 2
}
